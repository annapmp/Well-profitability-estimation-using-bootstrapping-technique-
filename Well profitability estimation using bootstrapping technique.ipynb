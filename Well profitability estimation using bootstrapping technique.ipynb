{
 "cells": [
  {
   "cell_type": "markdown",
   "metadata": {},
   "source": [
    "# Well profitability estimation using bootstrapping technique"
   ]
  },
  {
   "cell_type": "markdown",
   "metadata": {
    "toc": true
   },
   "source": [
    "<h1>Table of Contents<span class=\"tocSkip\"></span></h1>\n",
    "<div class=\"toc\"><ul class=\"toc-item\"><li><span><a href=\"#Goal\" data-toc-modified-id=\"Goal-1\"><span class=\"toc-item-num\">1&nbsp;&nbsp;</span>Goal</a></span></li><li><span><a href=\"#Data-description\" data-toc-modified-id=\"Data-description-2\"><span class=\"toc-item-num\">2&nbsp;&nbsp;</span>Data description</a></span></li><li><span><a href=\"#Imports\" data-toc-modified-id=\"Imports-3\"><span class=\"toc-item-num\">3&nbsp;&nbsp;</span>Imports</a></span></li><li><span><a href=\"#Input-data\" data-toc-modified-id=\"Input-data-4\"><span class=\"toc-item-num\">4&nbsp;&nbsp;</span>Input data</a></span></li><li><span><a href=\"#Descriptive-statistics\" data-toc-modified-id=\"Descriptive-statistics-5\"><span class=\"toc-item-num\">5&nbsp;&nbsp;</span>Descriptive statistics</a></span></li><li><span><a href=\"#Train-and-test-the-model-for-each-region\" data-toc-modified-id=\"Train-and-test-the-model-for-each-region-6\"><span class=\"toc-item-num\">6&nbsp;&nbsp;</span>Train and test the model for each region</a></span></li><li><span><a href=\"#Profit-calculations\" data-toc-modified-id=\"Profit-calculations-7\"><span class=\"toc-item-num\">7&nbsp;&nbsp;</span>Profit calculations</a></span><ul class=\"toc-item\"><li><span><a href=\"#Product-predictions-for-each-region\" data-toc-modified-id=\"Product-predictions-for-each-region-7.1\"><span class=\"toc-item-num\">7.1&nbsp;&nbsp;</span>Product predictions for each region</a></span></li><li><span><a href=\"#Minimum-volume-per-well\" data-toc-modified-id=\"Minimum-volume-per-well-7.2\"><span class=\"toc-item-num\">7.2&nbsp;&nbsp;</span>Minimum volume per well</a></span></li><li><span><a href=\"#Profit-calculator\" data-toc-modified-id=\"Profit-calculator-7.3\"><span class=\"toc-item-num\">7.3&nbsp;&nbsp;</span>Profit calculator</a></span></li><li><span><a href=\"#Profit-distribution-per-region\" data-toc-modified-id=\"Profit-distribution-per-region-7.4\"><span class=\"toc-item-num\">7.4&nbsp;&nbsp;</span>Profit distribution per region</a></span></li><li><span><a href=\"#Average-profit-per-region\" data-toc-modified-id=\"Average-profit-per-region-7.5\"><span class=\"toc-item-num\">7.5&nbsp;&nbsp;</span>Average profit per region</a></span></li><li><span><a href=\"#Risk-assessment-per-region\" data-toc-modified-id=\"Risk-assessment-per-region-7.6\"><span class=\"toc-item-num\">7.6&nbsp;&nbsp;</span>Risk assessment per region</a></span></li></ul></li><li><span><a href=\"#Conclusion\" data-toc-modified-id=\"Conclusion-8\"><span class=\"toc-item-num\">8&nbsp;&nbsp;</span>Conclusion</a></span></li></ul></div>"
   ]
  },
  {
   "cell_type": "markdown",
   "metadata": {},
   "source": [
    "## Goal\n",
    "\n",
    "- Develop a linear regression model for the OilyGiant mining company that would analyze oil well parameters in each of the three selected regions and predict the volume of reserves in the new wells for each region;\n",
    "- Based on these predictions, pick the region with the highest total profit and the lowest risk of losses.\n",
    "\n",
    "**Steps to choose the location:**\n",
    "- Collect the oil well parameters in the selected region: oil quality and volume of reserves;\n",
    "- Build a model for predicting the volume of reserves in the new wells;\n",
    "- Pick the oil wells with the highest estimated values;\n",
    "- Pick the region with the highest total profit for the selected oil wells."
   ]
  },
  {
   "cell_type": "markdown",
   "metadata": {},
   "source": [
    "## Data description\n",
    "\n",
    "**Features**\n",
    "\n",
    "- `id` — unique oil well identifier\n",
    "- `f0, f1, f2` — three features of points (their specific meaning is unimportant, but the features themselves are significant)\n",
    "\n",
    "**Target**\n",
    "\n",
    "- `product` — volume of reserves in the oil well (thousand barrels).\n",
    "\n",
    "**Conditions:**\n",
    "\n",
    "- Only linear regression is suitable for model training (the rest are not sufficiently predictable).\n",
    "- When exploring the region, a study of 500 points is carried with picking the best 200 points for the profit calculation.\n",
    "- The budget for development of 200 oil wells is 100 USD million.\n",
    "- One barrel of raw materials brings 4.5 USD of revenue The revenue from one unit of product is 4,500 dollars (volume of reserves is in thousand barrels).\n",
    "- After the risk evaluation, keep only the regions with the risk of losses lower than 2.5%. From the ones that fit the criteria, the region with the highest average profit should be selected.\n",
    "\n",
    "The data is synthetic: contract details and well characteristics are not disclosed."
   ]
  },
  {
   "cell_type": "markdown",
   "metadata": {},
   "source": [
    "## Imports"
   ]
  },
  {
   "cell_type": "code",
   "execution_count": 1,
   "metadata": {},
   "outputs": [
    {
     "name": "stdout",
     "output_type": "stream",
     "text": [
      "Setup Complete\n"
     ]
    }
   ],
   "source": [
    "import pandas as pd\n",
    "import matplotlib\n",
    "import numpy as np\n",
    "\n",
    "from sklearn.preprocessing import StandardScaler as ss\n",
    "from sklearn.model_selection import train_test_split\n",
    "\n",
    "from sklearn.dummy import DummyRegressor\n",
    "from sklearn.linear_model import LinearRegression\n",
    "from sklearn.metrics import mean_squared_error\n",
    "\n",
    "from scipy import stats as st\n",
    "\n",
    "import matplotlib.pyplot as plt\n",
    "%matplotlib inline\n",
    "\n",
    "import sys\n",
    "import warnings\n",
    "if not sys.warnoptions:\n",
    "       warnings.simplefilter(\"ignore\")\n",
    "\n",
    "pd.set_option('display.max_rows', None)\n",
    "\n",
    "print(\"Setup Complete\")"
   ]
  },
  {
   "cell_type": "markdown",
   "metadata": {},
   "source": [
    "## Input data"
   ]
  },
  {
   "cell_type": "code",
   "execution_count": 2,
   "metadata": {},
   "outputs": [],
   "source": [
    "try:\n",
    "    df_0 = pd.read_csv('C:/Users/anna/Desktop/DS Yandex/ML for Business/geo_data_0.csv')\n",
    "    df_1 = pd.read_csv('C:/Users/anna/Desktop/DS Yandex/ML for Business/geo_data_1.csv')\n",
    "    df_2 = pd.read_csv('C:/Users/anna/Desktop/DS Yandex/ML for Business/geo_data_2.csv')\n",
    "    \n",
    "except:\n",
    "    df_0 = pd.read_csv('/datasets/geo_data_0.csv')\n",
    "    df_1 = pd.read_csv('/datasets/geo_data_1.csv')\n",
    "    df_2 = pd.read_csv('/datasets/geo_data_2.csv')"
   ]
  },
  {
   "cell_type": "markdown",
   "metadata": {},
   "source": [
    "## Descriptive statistics"
   ]
  },
  {
   "cell_type": "markdown",
   "metadata": {},
   "source": [
    "Let's take a look at our tables"
   ]
  },
  {
   "cell_type": "code",
   "execution_count": 3,
   "metadata": {},
   "outputs": [
    {
     "data": {
      "text/html": [
       "<div>\n",
       "<style scoped>\n",
       "    .dataframe tbody tr th:only-of-type {\n",
       "        vertical-align: middle;\n",
       "    }\n",
       "\n",
       "    .dataframe tbody tr th {\n",
       "        vertical-align: top;\n",
       "    }\n",
       "\n",
       "    .dataframe thead th {\n",
       "        text-align: right;\n",
       "    }\n",
       "</style>\n",
       "<table border=\"1\" class=\"dataframe\">\n",
       "  <thead>\n",
       "    <tr style=\"text-align: right;\">\n",
       "      <th></th>\n",
       "      <th>id</th>\n",
       "      <th>f0</th>\n",
       "      <th>f1</th>\n",
       "      <th>f2</th>\n",
       "      <th>product</th>\n",
       "    </tr>\n",
       "  </thead>\n",
       "  <tbody>\n",
       "    <tr>\n",
       "      <td>0</td>\n",
       "      <td>txEyH</td>\n",
       "      <td>0.705745</td>\n",
       "      <td>-0.497823</td>\n",
       "      <td>1.221170</td>\n",
       "      <td>105.280062</td>\n",
       "    </tr>\n",
       "    <tr>\n",
       "      <td>1</td>\n",
       "      <td>2acmU</td>\n",
       "      <td>1.334711</td>\n",
       "      <td>-0.340164</td>\n",
       "      <td>4.365080</td>\n",
       "      <td>73.037750</td>\n",
       "    </tr>\n",
       "    <tr>\n",
       "      <td>2</td>\n",
       "      <td>409Wp</td>\n",
       "      <td>1.022732</td>\n",
       "      <td>0.151990</td>\n",
       "      <td>1.419926</td>\n",
       "      <td>85.265647</td>\n",
       "    </tr>\n",
       "    <tr>\n",
       "      <td>3</td>\n",
       "      <td>iJLyR</td>\n",
       "      <td>-0.032172</td>\n",
       "      <td>0.139033</td>\n",
       "      <td>2.978566</td>\n",
       "      <td>168.620776</td>\n",
       "    </tr>\n",
       "    <tr>\n",
       "      <td>4</td>\n",
       "      <td>Xdl7t</td>\n",
       "      <td>1.988431</td>\n",
       "      <td>0.155413</td>\n",
       "      <td>4.751769</td>\n",
       "      <td>154.036647</td>\n",
       "    </tr>\n",
       "  </tbody>\n",
       "</table>\n",
       "</div>"
      ],
      "text/plain": [
       "      id        f0        f1        f2     product\n",
       "0  txEyH  0.705745 -0.497823  1.221170  105.280062\n",
       "1  2acmU  1.334711 -0.340164  4.365080   73.037750\n",
       "2  409Wp  1.022732  0.151990  1.419926   85.265647\n",
       "3  iJLyR -0.032172  0.139033  2.978566  168.620776\n",
       "4  Xdl7t  1.988431  0.155413  4.751769  154.036647"
      ]
     },
     "execution_count": 3,
     "metadata": {},
     "output_type": "execute_result"
    }
   ],
   "source": [
    "df_0.head()"
   ]
  },
  {
   "cell_type": "code",
   "execution_count": 4,
   "metadata": {},
   "outputs": [
    {
     "data": {
      "text/html": [
       "<div>\n",
       "<style scoped>\n",
       "    .dataframe tbody tr th:only-of-type {\n",
       "        vertical-align: middle;\n",
       "    }\n",
       "\n",
       "    .dataframe tbody tr th {\n",
       "        vertical-align: top;\n",
       "    }\n",
       "\n",
       "    .dataframe thead th {\n",
       "        text-align: right;\n",
       "    }\n",
       "</style>\n",
       "<table border=\"1\" class=\"dataframe\">\n",
       "  <thead>\n",
       "    <tr style=\"text-align: right;\">\n",
       "      <th></th>\n",
       "      <th>id</th>\n",
       "      <th>f0</th>\n",
       "      <th>f1</th>\n",
       "      <th>f2</th>\n",
       "      <th>product</th>\n",
       "    </tr>\n",
       "  </thead>\n",
       "  <tbody>\n",
       "    <tr>\n",
       "      <td>0</td>\n",
       "      <td>kBEdx</td>\n",
       "      <td>-15.001348</td>\n",
       "      <td>-8.276000</td>\n",
       "      <td>-0.005876</td>\n",
       "      <td>3.179103</td>\n",
       "    </tr>\n",
       "    <tr>\n",
       "      <td>1</td>\n",
       "      <td>62mP7</td>\n",
       "      <td>14.272088</td>\n",
       "      <td>-3.475083</td>\n",
       "      <td>0.999183</td>\n",
       "      <td>26.953261</td>\n",
       "    </tr>\n",
       "    <tr>\n",
       "      <td>2</td>\n",
       "      <td>vyE1P</td>\n",
       "      <td>6.263187</td>\n",
       "      <td>-5.948386</td>\n",
       "      <td>5.001160</td>\n",
       "      <td>134.766305</td>\n",
       "    </tr>\n",
       "    <tr>\n",
       "      <td>3</td>\n",
       "      <td>KcrkZ</td>\n",
       "      <td>-13.081196</td>\n",
       "      <td>-11.506057</td>\n",
       "      <td>4.999415</td>\n",
       "      <td>137.945408</td>\n",
       "    </tr>\n",
       "    <tr>\n",
       "      <td>4</td>\n",
       "      <td>AHL4O</td>\n",
       "      <td>12.702195</td>\n",
       "      <td>-8.147433</td>\n",
       "      <td>5.004363</td>\n",
       "      <td>134.766305</td>\n",
       "    </tr>\n",
       "  </tbody>\n",
       "</table>\n",
       "</div>"
      ],
      "text/plain": [
       "      id         f0         f1        f2     product\n",
       "0  kBEdx -15.001348  -8.276000 -0.005876    3.179103\n",
       "1  62mP7  14.272088  -3.475083  0.999183   26.953261\n",
       "2  vyE1P   6.263187  -5.948386  5.001160  134.766305\n",
       "3  KcrkZ -13.081196 -11.506057  4.999415  137.945408\n",
       "4  AHL4O  12.702195  -8.147433  5.004363  134.766305"
      ]
     },
     "execution_count": 4,
     "metadata": {},
     "output_type": "execute_result"
    }
   ],
   "source": [
    "df_1.head()"
   ]
  },
  {
   "cell_type": "code",
   "execution_count": 5,
   "metadata": {},
   "outputs": [
    {
     "data": {
      "text/html": [
       "<div>\n",
       "<style scoped>\n",
       "    .dataframe tbody tr th:only-of-type {\n",
       "        vertical-align: middle;\n",
       "    }\n",
       "\n",
       "    .dataframe tbody tr th {\n",
       "        vertical-align: top;\n",
       "    }\n",
       "\n",
       "    .dataframe thead th {\n",
       "        text-align: right;\n",
       "    }\n",
       "</style>\n",
       "<table border=\"1\" class=\"dataframe\">\n",
       "  <thead>\n",
       "    <tr style=\"text-align: right;\">\n",
       "      <th></th>\n",
       "      <th>id</th>\n",
       "      <th>f0</th>\n",
       "      <th>f1</th>\n",
       "      <th>f2</th>\n",
       "      <th>product</th>\n",
       "    </tr>\n",
       "  </thead>\n",
       "  <tbody>\n",
       "    <tr>\n",
       "      <td>0</td>\n",
       "      <td>fwXo0</td>\n",
       "      <td>-1.146987</td>\n",
       "      <td>0.963328</td>\n",
       "      <td>-0.828965</td>\n",
       "      <td>27.758673</td>\n",
       "    </tr>\n",
       "    <tr>\n",
       "      <td>1</td>\n",
       "      <td>WJtFt</td>\n",
       "      <td>0.262778</td>\n",
       "      <td>0.269839</td>\n",
       "      <td>-2.530187</td>\n",
       "      <td>56.069697</td>\n",
       "    </tr>\n",
       "    <tr>\n",
       "      <td>2</td>\n",
       "      <td>ovLUW</td>\n",
       "      <td>0.194587</td>\n",
       "      <td>0.289035</td>\n",
       "      <td>-5.586433</td>\n",
       "      <td>62.871910</td>\n",
       "    </tr>\n",
       "    <tr>\n",
       "      <td>3</td>\n",
       "      <td>q6cA6</td>\n",
       "      <td>2.236060</td>\n",
       "      <td>-0.553760</td>\n",
       "      <td>0.930038</td>\n",
       "      <td>114.572842</td>\n",
       "    </tr>\n",
       "    <tr>\n",
       "      <td>4</td>\n",
       "      <td>WPMUX</td>\n",
       "      <td>-0.515993</td>\n",
       "      <td>1.716266</td>\n",
       "      <td>5.899011</td>\n",
       "      <td>149.600746</td>\n",
       "    </tr>\n",
       "  </tbody>\n",
       "</table>\n",
       "</div>"
      ],
      "text/plain": [
       "      id        f0        f1        f2     product\n",
       "0  fwXo0 -1.146987  0.963328 -0.828965   27.758673\n",
       "1  WJtFt  0.262778  0.269839 -2.530187   56.069697\n",
       "2  ovLUW  0.194587  0.289035 -5.586433   62.871910\n",
       "3  q6cA6  2.236060 -0.553760  0.930038  114.572842\n",
       "4  WPMUX -0.515993  1.716266  5.899011  149.600746"
      ]
     },
     "execution_count": 5,
     "metadata": {},
     "output_type": "execute_result"
    }
   ],
   "source": [
    "df_2.head()"
   ]
  },
  {
   "cell_type": "markdown",
   "metadata": {},
   "source": [
    "Conclusion: the data has already been preprocessed, all features are numerical.\n",
    "\n",
    "Now let's look at datatypes."
   ]
  },
  {
   "cell_type": "code",
   "execution_count": 6,
   "metadata": {},
   "outputs": [
    {
     "name": "stdout",
     "output_type": "stream",
     "text": [
      "<class 'pandas.core.frame.DataFrame'>\n",
      "RangeIndex: 100000 entries, 0 to 99999\n",
      "Data columns (total 5 columns):\n",
      "id         100000 non-null object\n",
      "f0         100000 non-null float64\n",
      "f1         100000 non-null float64\n",
      "f2         100000 non-null float64\n",
      "product    100000 non-null float64\n",
      "dtypes: float64(4), object(1)\n",
      "memory usage: 3.8+ MB\n"
     ]
    }
   ],
   "source": [
    "df_0.info()"
   ]
  },
  {
   "cell_type": "code",
   "execution_count": 7,
   "metadata": {},
   "outputs": [
    {
     "name": "stdout",
     "output_type": "stream",
     "text": [
      "<class 'pandas.core.frame.DataFrame'>\n",
      "RangeIndex: 100000 entries, 0 to 99999\n",
      "Data columns (total 5 columns):\n",
      "id         100000 non-null object\n",
      "f0         100000 non-null float64\n",
      "f1         100000 non-null float64\n",
      "f2         100000 non-null float64\n",
      "product    100000 non-null float64\n",
      "dtypes: float64(4), object(1)\n",
      "memory usage: 3.8+ MB\n"
     ]
    }
   ],
   "source": [
    "df_1.info()"
   ]
  },
  {
   "cell_type": "code",
   "execution_count": 8,
   "metadata": {},
   "outputs": [
    {
     "name": "stdout",
     "output_type": "stream",
     "text": [
      "<class 'pandas.core.frame.DataFrame'>\n",
      "RangeIndex: 100000 entries, 0 to 99999\n",
      "Data columns (total 5 columns):\n",
      "id         100000 non-null object\n",
      "f0         100000 non-null float64\n",
      "f1         100000 non-null float64\n",
      "f2         100000 non-null float64\n",
      "product    100000 non-null float64\n",
      "dtypes: float64(4), object(1)\n",
      "memory usage: 3.8+ MB\n"
     ]
    }
   ],
   "source": [
    "df_2.info()"
   ]
  },
  {
   "cell_type": "markdown",
   "metadata": {},
   "source": [
    "- no missing values found\n",
    "- data types are fine"
   ]
  },
  {
   "cell_type": "code",
   "execution_count": 9,
   "metadata": {},
   "outputs": [
    {
     "data": {
      "text/html": [
       "<div>\n",
       "<style scoped>\n",
       "    .dataframe tbody tr th:only-of-type {\n",
       "        vertical-align: middle;\n",
       "    }\n",
       "\n",
       "    .dataframe tbody tr th {\n",
       "        vertical-align: top;\n",
       "    }\n",
       "\n",
       "    .dataframe thead th {\n",
       "        text-align: right;\n",
       "    }\n",
       "</style>\n",
       "<table border=\"1\" class=\"dataframe\">\n",
       "  <thead>\n",
       "    <tr style=\"text-align: right;\">\n",
       "      <th></th>\n",
       "      <th>f0</th>\n",
       "      <th>f1</th>\n",
       "      <th>f2</th>\n",
       "      <th>product</th>\n",
       "    </tr>\n",
       "  </thead>\n",
       "  <tbody>\n",
       "    <tr>\n",
       "      <td>count</td>\n",
       "      <td>100000.000000</td>\n",
       "      <td>100000.000000</td>\n",
       "      <td>100000.000000</td>\n",
       "      <td>100000.000000</td>\n",
       "    </tr>\n",
       "    <tr>\n",
       "      <td>mean</td>\n",
       "      <td>0.500419</td>\n",
       "      <td>0.250143</td>\n",
       "      <td>2.502647</td>\n",
       "      <td>92.500000</td>\n",
       "    </tr>\n",
       "    <tr>\n",
       "      <td>std</td>\n",
       "      <td>0.871832</td>\n",
       "      <td>0.504433</td>\n",
       "      <td>3.248248</td>\n",
       "      <td>44.288691</td>\n",
       "    </tr>\n",
       "    <tr>\n",
       "      <td>min</td>\n",
       "      <td>-1.408605</td>\n",
       "      <td>-0.848218</td>\n",
       "      <td>-12.088328</td>\n",
       "      <td>0.000000</td>\n",
       "    </tr>\n",
       "    <tr>\n",
       "      <td>25%</td>\n",
       "      <td>-0.072580</td>\n",
       "      <td>-0.200881</td>\n",
       "      <td>0.287748</td>\n",
       "      <td>56.497507</td>\n",
       "    </tr>\n",
       "    <tr>\n",
       "      <td>50%</td>\n",
       "      <td>0.502360</td>\n",
       "      <td>0.250252</td>\n",
       "      <td>2.515969</td>\n",
       "      <td>91.849972</td>\n",
       "    </tr>\n",
       "    <tr>\n",
       "      <td>75%</td>\n",
       "      <td>1.073581</td>\n",
       "      <td>0.700646</td>\n",
       "      <td>4.715088</td>\n",
       "      <td>128.564089</td>\n",
       "    </tr>\n",
       "    <tr>\n",
       "      <td>max</td>\n",
       "      <td>2.362331</td>\n",
       "      <td>1.343769</td>\n",
       "      <td>16.003790</td>\n",
       "      <td>185.364347</td>\n",
       "    </tr>\n",
       "  </tbody>\n",
       "</table>\n",
       "</div>"
      ],
      "text/plain": [
       "                  f0             f1             f2        product\n",
       "count  100000.000000  100000.000000  100000.000000  100000.000000\n",
       "mean        0.500419       0.250143       2.502647      92.500000\n",
       "std         0.871832       0.504433       3.248248      44.288691\n",
       "min        -1.408605      -0.848218     -12.088328       0.000000\n",
       "25%        -0.072580      -0.200881       0.287748      56.497507\n",
       "50%         0.502360       0.250252       2.515969      91.849972\n",
       "75%         1.073581       0.700646       4.715088     128.564089\n",
       "max         2.362331       1.343769      16.003790     185.364347"
      ]
     },
     "execution_count": 9,
     "metadata": {},
     "output_type": "execute_result"
    }
   ],
   "source": [
    "df_0.describe()"
   ]
  },
  {
   "cell_type": "code",
   "execution_count": 10,
   "metadata": {},
   "outputs": [
    {
     "data": {
      "text/html": [
       "<div>\n",
       "<style scoped>\n",
       "    .dataframe tbody tr th:only-of-type {\n",
       "        vertical-align: middle;\n",
       "    }\n",
       "\n",
       "    .dataframe tbody tr th {\n",
       "        vertical-align: top;\n",
       "    }\n",
       "\n",
       "    .dataframe thead th {\n",
       "        text-align: right;\n",
       "    }\n",
       "</style>\n",
       "<table border=\"1\" class=\"dataframe\">\n",
       "  <thead>\n",
       "    <tr style=\"text-align: right;\">\n",
       "      <th></th>\n",
       "      <th>f0</th>\n",
       "      <th>f1</th>\n",
       "      <th>f2</th>\n",
       "      <th>product</th>\n",
       "    </tr>\n",
       "  </thead>\n",
       "  <tbody>\n",
       "    <tr>\n",
       "      <td>count</td>\n",
       "      <td>100000.000000</td>\n",
       "      <td>100000.000000</td>\n",
       "      <td>100000.000000</td>\n",
       "      <td>100000.000000</td>\n",
       "    </tr>\n",
       "    <tr>\n",
       "      <td>mean</td>\n",
       "      <td>1.141296</td>\n",
       "      <td>-4.796579</td>\n",
       "      <td>2.494541</td>\n",
       "      <td>68.825000</td>\n",
       "    </tr>\n",
       "    <tr>\n",
       "      <td>std</td>\n",
       "      <td>8.965932</td>\n",
       "      <td>5.119872</td>\n",
       "      <td>1.703572</td>\n",
       "      <td>45.944423</td>\n",
       "    </tr>\n",
       "    <tr>\n",
       "      <td>min</td>\n",
       "      <td>-31.609576</td>\n",
       "      <td>-26.358598</td>\n",
       "      <td>-0.018144</td>\n",
       "      <td>0.000000</td>\n",
       "    </tr>\n",
       "    <tr>\n",
       "      <td>25%</td>\n",
       "      <td>-6.298551</td>\n",
       "      <td>-8.267985</td>\n",
       "      <td>1.000021</td>\n",
       "      <td>26.953261</td>\n",
       "    </tr>\n",
       "    <tr>\n",
       "      <td>50%</td>\n",
       "      <td>1.153055</td>\n",
       "      <td>-4.813172</td>\n",
       "      <td>2.011479</td>\n",
       "      <td>57.085625</td>\n",
       "    </tr>\n",
       "    <tr>\n",
       "      <td>75%</td>\n",
       "      <td>8.621015</td>\n",
       "      <td>-1.332816</td>\n",
       "      <td>3.999904</td>\n",
       "      <td>107.813044</td>\n",
       "    </tr>\n",
       "    <tr>\n",
       "      <td>max</td>\n",
       "      <td>29.421755</td>\n",
       "      <td>18.734063</td>\n",
       "      <td>5.019721</td>\n",
       "      <td>137.945408</td>\n",
       "    </tr>\n",
       "  </tbody>\n",
       "</table>\n",
       "</div>"
      ],
      "text/plain": [
       "                  f0             f1             f2        product\n",
       "count  100000.000000  100000.000000  100000.000000  100000.000000\n",
       "mean        1.141296      -4.796579       2.494541      68.825000\n",
       "std         8.965932       5.119872       1.703572      45.944423\n",
       "min       -31.609576     -26.358598      -0.018144       0.000000\n",
       "25%        -6.298551      -8.267985       1.000021      26.953261\n",
       "50%         1.153055      -4.813172       2.011479      57.085625\n",
       "75%         8.621015      -1.332816       3.999904     107.813044\n",
       "max        29.421755      18.734063       5.019721     137.945408"
      ]
     },
     "execution_count": 10,
     "metadata": {},
     "output_type": "execute_result"
    }
   ],
   "source": [
    "df_1.describe()"
   ]
  },
  {
   "cell_type": "code",
   "execution_count": 11,
   "metadata": {},
   "outputs": [
    {
     "data": {
      "text/html": [
       "<div>\n",
       "<style scoped>\n",
       "    .dataframe tbody tr th:only-of-type {\n",
       "        vertical-align: middle;\n",
       "    }\n",
       "\n",
       "    .dataframe tbody tr th {\n",
       "        vertical-align: top;\n",
       "    }\n",
       "\n",
       "    .dataframe thead th {\n",
       "        text-align: right;\n",
       "    }\n",
       "</style>\n",
       "<table border=\"1\" class=\"dataframe\">\n",
       "  <thead>\n",
       "    <tr style=\"text-align: right;\">\n",
       "      <th></th>\n",
       "      <th>f0</th>\n",
       "      <th>f1</th>\n",
       "      <th>f2</th>\n",
       "      <th>product</th>\n",
       "    </tr>\n",
       "  </thead>\n",
       "  <tbody>\n",
       "    <tr>\n",
       "      <td>count</td>\n",
       "      <td>100000.000000</td>\n",
       "      <td>100000.000000</td>\n",
       "      <td>100000.000000</td>\n",
       "      <td>100000.000000</td>\n",
       "    </tr>\n",
       "    <tr>\n",
       "      <td>mean</td>\n",
       "      <td>0.002023</td>\n",
       "      <td>-0.002081</td>\n",
       "      <td>2.495128</td>\n",
       "      <td>95.000000</td>\n",
       "    </tr>\n",
       "    <tr>\n",
       "      <td>std</td>\n",
       "      <td>1.732045</td>\n",
       "      <td>1.730417</td>\n",
       "      <td>3.473445</td>\n",
       "      <td>44.749921</td>\n",
       "    </tr>\n",
       "    <tr>\n",
       "      <td>min</td>\n",
       "      <td>-8.760004</td>\n",
       "      <td>-7.084020</td>\n",
       "      <td>-11.970335</td>\n",
       "      <td>0.000000</td>\n",
       "    </tr>\n",
       "    <tr>\n",
       "      <td>25%</td>\n",
       "      <td>-1.162288</td>\n",
       "      <td>-1.174820</td>\n",
       "      <td>0.130359</td>\n",
       "      <td>59.450441</td>\n",
       "    </tr>\n",
       "    <tr>\n",
       "      <td>50%</td>\n",
       "      <td>0.009424</td>\n",
       "      <td>-0.009482</td>\n",
       "      <td>2.484236</td>\n",
       "      <td>94.925613</td>\n",
       "    </tr>\n",
       "    <tr>\n",
       "      <td>75%</td>\n",
       "      <td>1.158535</td>\n",
       "      <td>1.163678</td>\n",
       "      <td>4.858794</td>\n",
       "      <td>130.595027</td>\n",
       "    </tr>\n",
       "    <tr>\n",
       "      <td>max</td>\n",
       "      <td>7.238262</td>\n",
       "      <td>7.844801</td>\n",
       "      <td>16.739402</td>\n",
       "      <td>190.029838</td>\n",
       "    </tr>\n",
       "  </tbody>\n",
       "</table>\n",
       "</div>"
      ],
      "text/plain": [
       "                  f0             f1             f2        product\n",
       "count  100000.000000  100000.000000  100000.000000  100000.000000\n",
       "mean        0.002023      -0.002081       2.495128      95.000000\n",
       "std         1.732045       1.730417       3.473445      44.749921\n",
       "min        -8.760004      -7.084020     -11.970335       0.000000\n",
       "25%        -1.162288      -1.174820       0.130359      59.450441\n",
       "50%         0.009424      -0.009482       2.484236      94.925613\n",
       "75%         1.158535       1.163678       4.858794     130.595027\n",
       "max         7.238262       7.844801      16.739402     190.029838"
      ]
     },
     "execution_count": 11,
     "metadata": {},
     "output_type": "execute_result"
    }
   ],
   "source": [
    "df_2.describe()"
   ]
  },
  {
   "cell_type": "markdown",
   "metadata": {},
   "source": [
    "- Features `f0`, `f1`, `f2` in all 3 data frames seem to be normally distributed as their mean and median values are close to each other. Maximum values are mostly within 3 std from the mean value.\n",
    "- The target variable is continuous, so we will need to use a **regression model** for predictions. The targets' distributions are quite normal as well."
   ]
  },
  {
   "cell_type": "markdown",
   "metadata": {},
   "source": [
    "## Train and test the model for each region"
   ]
  },
  {
   "cell_type": "markdown",
   "metadata": {},
   "source": [
    "I'll split the data into a training set and validation set at a ratio of 75:25"
   ]
  },
  {
   "cell_type": "code",
   "execution_count": 12,
   "metadata": {},
   "outputs": [],
   "source": [
    "def modeling(df):\n",
    "    X = df.drop(['id','product'], axis=1)\n",
    "    y = df['product']\n",
    "    X_train, X_valid, y_train, y_valid = train_test_split(X, y, test_size = 0.25, random_state=12345)\n",
    "    \n",
    "    sc = ss()\n",
    "    X_train_scaled = sc.fit_transform(X_train)\n",
    "    X_valid_scaled = sc.transform(X_valid)\n",
    "    X_train = pd.DataFrame(data=X_train_scaled,\n",
    "                        index=X_train.index,    \n",
    "                        columns=X_train.columns)\n",
    "    X_valid = pd.DataFrame(data=X_valid_scaled,    \n",
    "                        index=X_valid.index,    \n",
    "                        columns=X_valid.columns)\n",
    "    \n",
    "    base_model = DummyRegressor(strategy='mean')\n",
    "    base_model.fit(X_train, y_train)\n",
    "    y_prelim_pred = base_model.predict(X_valid)\n",
    "    rmse_baseline = round(mean_squared_error(y_valid,y_prelim_pred)** 0.5,2)\n",
    "    \n",
    "    model = LinearRegression()\n",
    "    model.fit(X_train, y_train)\n",
    "    predicted_valid = model.predict(X_valid)\n",
    "    mse = mean_squared_error(y_valid, predicted_valid)\n",
    "    rmse = round(mse ** 0.5, 2)\n",
    "    predicted_valid_mean = round(predicted_valid.mean(),2)\n",
    "    \n",
    "    return model, X_valid, y_valid, rmse_baseline, rmse, predicted_valid_mean"
   ]
  },
  {
   "cell_type": "code",
   "execution_count": 13,
   "metadata": {},
   "outputs": [],
   "source": [
    "model_0, X_valid_0, y_valid_0, rmse_baseline_0, rmse_0, predicted_valid_mean_0 = modeling(df_0)\n",
    "model_1, X_valid_1, y_valid_1, rmse_baseline_1, rmse_1, predicted_valid_mean_1 = modeling(df_1)\n",
    "model_2, X_valid_2, y_valid_2, rmse_baseline_2, rmse_2, predicted_valid_mean_2 = modeling(df_2)"
   ]
  },
  {
   "cell_type": "markdown",
   "metadata": {},
   "source": [
    "Print the average volume of predicted reserves and model RMSE"
   ]
  },
  {
   "cell_type": "code",
   "execution_count": 14,
   "metadata": {},
   "outputs": [
    {
     "data": {
      "text/html": [
       "<div>\n",
       "<style scoped>\n",
       "    .dataframe tbody tr th:only-of-type {\n",
       "        vertical-align: middle;\n",
       "    }\n",
       "\n",
       "    .dataframe tbody tr th {\n",
       "        vertical-align: top;\n",
       "    }\n",
       "\n",
       "    .dataframe thead th {\n",
       "        text-align: right;\n",
       "    }\n",
       "</style>\n",
       "<table border=\"1\" class=\"dataframe\">\n",
       "  <thead>\n",
       "    <tr style=\"text-align: right;\">\n",
       "      <th></th>\n",
       "      <th>Region</th>\n",
       "      <th>Baseline RMSE</th>\n",
       "      <th>Model RMSE</th>\n",
       "      <th>Actual average volume</th>\n",
       "      <th>Predicted average volume</th>\n",
       "      <th>% of error</th>\n",
       "    </tr>\n",
       "  </thead>\n",
       "  <tbody>\n",
       "    <tr>\n",
       "      <td>0</td>\n",
       "      <td>Region_0</td>\n",
       "      <td>44.29</td>\n",
       "      <td>37.58</td>\n",
       "      <td>92.50</td>\n",
       "      <td>92.59</td>\n",
       "      <td>41.0</td>\n",
       "    </tr>\n",
       "    <tr>\n",
       "      <td>1</td>\n",
       "      <td>Region_1</td>\n",
       "      <td>46.02</td>\n",
       "      <td>0.89</td>\n",
       "      <td>68.83</td>\n",
       "      <td>68.73</td>\n",
       "      <td>1.0</td>\n",
       "    </tr>\n",
       "    <tr>\n",
       "      <td>2</td>\n",
       "      <td>Region_2</td>\n",
       "      <td>44.90</td>\n",
       "      <td>40.03</td>\n",
       "      <td>95.00</td>\n",
       "      <td>94.97</td>\n",
       "      <td>42.0</td>\n",
       "    </tr>\n",
       "  </tbody>\n",
       "</table>\n",
       "</div>"
      ],
      "text/plain": [
       "     Region  Baseline RMSE  Model RMSE  Actual average volume  \\\n",
       "0  Region_0          44.29       37.58                  92.50   \n",
       "1  Region_1          46.02        0.89                  68.83   \n",
       "2  Region_2          44.90       40.03                  95.00   \n",
       "\n",
       "   Predicted average volume  % of error  \n",
       "0                     92.59        41.0  \n",
       "1                     68.73         1.0  \n",
       "2                     94.97        42.0  "
      ]
     },
     "execution_count": 14,
     "metadata": {},
     "output_type": "execute_result"
    }
   ],
   "source": [
    "models = pd.DataFrame({\n",
    "    'Region': ['Region_0', 'Region_1', 'Region_2'],\n",
    "    'Baseline RMSE': [rmse_baseline_0, rmse_baseline_1, rmse_baseline_2],\n",
    "    'Model RMSE': [rmse_0, rmse_1, rmse_2],\n",
    "    'Actual average volume': [round(df_0['product'].mean(),2), round(df_1['product'].mean(),2), round(df_2['product'].mean(),2)],\n",
    "    'Predicted average volume': [predicted_valid_mean_0, predicted_valid_mean_1, predicted_valid_mean_2]\n",
    "})\n",
    "models['% of error'] = round(models['Model RMSE'] / models['Predicted average volume'], 2) * 100\n",
    "models"
   ]
  },
  {
   "cell_type": "markdown",
   "metadata": {},
   "source": [
    "Each of the 3 models' RMSE is lower than the respective baseline RMSE, so the models are better than the average estimate but not much better, except for the model in Region 1: it shows an error of less than 1 thousand barrel. However, in this region the average predicted volume of reserves is much lower than in the other two regions. \n",
    "\n",
    "It might be easier to see if we calculate the percentage by which the model is off compared to the average predicted volume of reserves (column `% of error`). The error is quite high (over 40%) in regions 0 and 2 and it is very low (only 1%) in region 1.\n",
    "\n",
    "Overall, the actual and predicted volumes of reserves are very close in all 3 regions."
   ]
  },
  {
   "cell_type": "markdown",
   "metadata": {},
   "source": [
    "## Profit calculations"
   ]
  },
  {
   "cell_type": "markdown",
   "metadata": {},
   "source": [
    "At this step I'll \n",
    "- Store all key values for calculations in separate variables.\n",
    "- Calculate the volume of reserves sufficient for developing a new well without losses. \n",
    "- Compare the obtained value with the average volume of reserves in each region.\n",
    "- Provide the findings about the preparation for profit calculation step."
   ]
  },
  {
   "cell_type": "markdown",
   "metadata": {},
   "source": [
    "### Product predictions for each region"
   ]
  },
  {
   "cell_type": "code",
   "execution_count": 15,
   "metadata": {},
   "outputs": [],
   "source": [
    "region_0_vals = pd.DataFrame()\n",
    "region_0_vals['predicted']= model_0.predict(X_valid_0)\n",
    "region_0_vals['actual']= y_valid_0.values\n",
    "\n",
    "region_1_vals = pd.DataFrame()\n",
    "region_1_vals['predicted']= model_1.predict(X_valid_1)\n",
    "region_1_vals['actual']= y_valid_1.values\n",
    "\n",
    "region_2_vals = pd.DataFrame()\n",
    "region_2_vals['predicted']= model_2.predict(X_valid_2)\n",
    "region_2_vals['actual']= y_valid_2.values"
   ]
  },
  {
   "cell_type": "markdown",
   "metadata": {},
   "source": [
    "### Minimum volume per well\n",
    "First, let's calculate the volume of reserves sufficient for developing a new well without losses. Then we will compare the obtained value with the average volume of reserves in each region."
   ]
  },
  {
   "cell_type": "code",
   "execution_count": 16,
   "metadata": {},
   "outputs": [
    {
     "data": {
      "text/plain": [
       "111.11"
      ]
     },
     "execution_count": 16,
     "metadata": {},
     "output_type": "execute_result"
    }
   ],
   "source": [
    "min_volume = round(100000000/(4500*200),2)\n",
    "min_volume"
   ]
  },
  {
   "cell_type": "markdown",
   "metadata": {},
   "source": [
    "- The budget for development of 200 oil wells is 100 USD million.\n",
    "- One barrel of raw materials brings 4.5 USD of revenue.\n",
    "- The revenue from one unit of product is 4,500 dollars (volume of reserves is in thousand barrels).\n",
    "\n",
    "Based on the above assumptions I have calculated that the minimum volume of reserves per well in the new region must be **111.11 thousand barrels** in order to break even.\n",
    "\n",
    "- Each of the 3 regions' **average** volume of predicted reserves is lower than this number. \n",
    "- If we were to randomly take 200 wells in each region we would be at a loss, on average. \n",
    "- To be able to make profit, let's select the most profitable wells in each region and see if the total reserves will cover the development cost."
   ]
  },
  {
   "cell_type": "markdown",
   "metadata": {},
   "source": [
    "### Profit calculator"
   ]
  },
  {
   "cell_type": "markdown",
   "metadata": {},
   "source": [
    "At this step I'll write a function to calculate profit from a set of selected oil wells and model predictions:\n",
    "- Pick the wells with the highest values of predictions.\n",
    "- Summarize the target volume of reserves in accordance with these predictions\n",
    "- Provide findings: suggest a region for oil wells' development and justify the choice. Calculate the profit for the obtained volume of reserves."
   ]
  },
  {
   "cell_type": "markdown",
   "metadata": {},
   "source": [
    "**Predicted profit calculation per region**"
   ]
  },
  {
   "cell_type": "markdown",
   "metadata": {},
   "source": [
    "In practice, instead of drilling all the wells in each region (and investing a lot of money in it), the company chooses 500 random wells, measure the features' values (`f0`, `f1`, `f2`) for each of them and then selects the best 200 wells for the profit calculation.\n",
    "\n",
    "Let's create a `RandomState()` instance from the `numpy.random module` which can be passed to the random_state argument of any function. \n",
    "It is important that with each new call, its state will change to random. This way we will get different subsamples.\n",
    "\n",
    "Besides, subsamples should provide a selection of elements with replacement. That is, the same element can fall into a subsample several times. To do this, we will specify `replace=True` for the `sample()` function. \n",
    "\n",
    "First, let's create a helper function to calculate profit and then apply it to each region."
   ]
  },
  {
   "cell_type": "code",
   "execution_count": 17,
   "metadata": {},
   "outputs": [],
   "source": [
    "def profit_calculator(region_vals):\n",
    "    state = np.random.RandomState(12345)\n",
    "    developement_cost = 100000000\n",
    "\n",
    "    profit_range = []\n",
    "    for i in range(10000):\n",
    "        subsample = region_vals.sample(n=500, replace=True, random_state=state).sort_values('predicted', ascending=False).iloc[0:200,].actual\n",
    "        revenue = subsample.sum() * 4500\n",
    "        profit = revenue - developement_cost\n",
    "        profit_range.append(profit)\n",
    "    return profit_range"
   ]
  },
  {
   "cell_type": "markdown",
   "metadata": {},
   "source": [
    "### Profit distribution per region"
   ]
  },
  {
   "cell_type": "code",
   "execution_count": 18,
   "metadata": {},
   "outputs": [],
   "source": [
    "profit_range_0 = pd.Series(profit_calculator(region_0_vals))\n",
    "profit_range_1 = pd.Series(profit_calculator(region_1_vals))\n",
    "profit_range_2 = pd.Series(profit_calculator(region_2_vals))"
   ]
  },
  {
   "cell_type": "code",
   "execution_count": 19,
   "metadata": {},
   "outputs": [
    {
     "data": {
      "text/plain": [
       "Text(0.5, 0, '10 million USD')"
      ]
     },
     "execution_count": 19,
     "metadata": {},
     "output_type": "execute_result"
    },
    {
     "data": {
      "image/png": "[encoded data removed]",
      "text/plain": [
       "<Figure size 864x576 with 1 Axes>"
      ]
     },
     "metadata": {
      "needs_background": "light"
     },
     "output_type": "display_data"
    }
   ],
   "source": [
    "plt.figure(figsize=(12,8))\n",
    "plt.hist(profit_range_0, alpha=0.5, bins=50, label='region_0', color ='orange')\n",
    "plt.hist(profit_range_1, alpha=0.5, bins=50, label='region_1', color ='blue')\n",
    "plt.hist(profit_range_2, alpha=0.5, bins=50, label='region_2', color ='gray')\n",
    "plt.legend(loc='upper right')\n",
    "plt.plot([0,0],[0,700],'r--')\n",
    "plt.title('Bootstrapped Histogram of Total Profit per region')\n",
    "plt.xlabel('10 million USD')"
   ]
  },
  {
   "cell_type": "markdown",
   "metadata": {},
   "source": [
    "- As we can see, the biggest part of the profit range for all 3 regions is above the break-even point. \n",
    "- However, `region 1` contains the most positive values. Based on that, we suggest that `region 1` should be selected for development of oil wells. \n",
    "- Next, we will perform risk assessment and make sure this conclusion holds."
   ]
  },
  {
   "cell_type": "markdown",
   "metadata": {},
   "source": [
    "### Average profit per region"
   ]
  },
  {
   "cell_type": "code",
   "execution_count": 20,
   "metadata": {},
   "outputs": [
    {
     "data": {
      "text/html": [
       "<div>\n",
       "<style scoped>\n",
       "    .dataframe tbody tr th:only-of-type {\n",
       "        vertical-align: middle;\n",
       "    }\n",
       "\n",
       "    .dataframe tbody tr th {\n",
       "        vertical-align: top;\n",
       "    }\n",
       "\n",
       "    .dataframe thead th {\n",
       "        text-align: right;\n",
       "    }\n",
       "</style>\n",
       "<table border=\"1\" class=\"dataframe\">\n",
       "  <thead>\n",
       "    <tr style=\"text-align: right;\">\n",
       "      <th></th>\n",
       "      <th>Average product per best well, th barrel</th>\n",
       "      <th>Minimum volume</th>\n",
       "      <th>Average profit per region, in 10 mln usd</th>\n",
       "    </tr>\n",
       "    <tr>\n",
       "      <th>Region</th>\n",
       "      <th></th>\n",
       "      <th></th>\n",
       "      <th></th>\n",
       "    </tr>\n",
       "  </thead>\n",
       "  <tbody>\n",
       "    <tr>\n",
       "      <td>0</td>\n",
       "      <td>115.44</td>\n",
       "      <td>111.11</td>\n",
       "      <td>0.39</td>\n",
       "    </tr>\n",
       "    <tr>\n",
       "      <td>1</td>\n",
       "      <td>116.14</td>\n",
       "      <td>111.11</td>\n",
       "      <td>0.45</td>\n",
       "    </tr>\n",
       "    <tr>\n",
       "      <td>2</td>\n",
       "      <td>115.49</td>\n",
       "      <td>111.11</td>\n",
       "      <td>0.39</td>\n",
       "    </tr>\n",
       "  </tbody>\n",
       "</table>\n",
       "</div>"
      ],
      "text/plain": [
       "        Average product per best well, th barrel  Minimum volume  \\\n",
       "Region                                                             \n",
       "0                                         115.44          111.11   \n",
       "1                                         116.14          111.11   \n",
       "2                                         115.49          111.11   \n",
       "\n",
       "        Average profit per region, in 10 mln usd  \n",
       "Region                                            \n",
       "0                                           0.39  \n",
       "1                                           0.45  \n",
       "2                                           0.39  "
      ]
     },
     "execution_count": 20,
     "metadata": {},
     "output_type": "execute_result"
    }
   ],
   "source": [
    "average_product_top_200_r0 = round((profit_range_0.mean()+100000000)/(200*4500),2)\n",
    "average_product_top_200_r1 = round((profit_range_1.mean()+100000000)/(200*4500),2)\n",
    "average_product_top_200_r2 = round((profit_range_2.mean()+100000000)/(200*4500),2)\n",
    "top_200 = pd.DataFrame(index=[0,1,2],\n",
    "                        data={'Average product per best well, th barrel': [average_product_top_200_r0,average_product_top_200_r1, average_product_top_200_r2],\n",
    "                        'Minimum volume': [111.11,111.11,111.11],\n",
    "                        'Average profit per region, in 10 mln usd': [round(profit_range_0.mean()/10000000,2), round(profit_range_1.mean()/10000000,2), round(profit_range_2.mean()/10000000,2)]\n",
    "                       })\n",
    "top_200.index.name = 'Region'\n",
    "top_200"
   ]
  },
  {
   "cell_type": "markdown",
   "metadata": {},
   "source": [
    "The average volume of product in all regions is higher than the minimum required level. `Region 1` has the highest average target volume."
   ]
  },
  {
   "cell_type": "markdown",
   "metadata": {},
   "source": [
    "### Risk assessment per region"
   ]
  },
  {
   "cell_type": "markdown",
   "metadata": {},
   "source": [
    "The company's requirement for a new region is to have the risk of losses lower than 2.5%. First, let's estimate the 95% confidence interval (CI) that the profit will fall into a particular range."
   ]
  },
  {
   "cell_type": "code",
   "execution_count": 21,
   "metadata": {},
   "outputs": [],
   "source": [
    "def CI_calculator(lower, upper, profit_range):\n",
    "    CI_lower = np.percentile(profit_range, lower)/10000000\n",
    "    CI_upper = np.percentile(profit_range, upper)/10000000\n",
    "    return CI_lower, CI_upper"
   ]
  },
  {
   "cell_type": "code",
   "execution_count": 22,
   "metadata": {},
   "outputs": [],
   "source": [
    "lower_CI_r0, upper_CI_r0 = CI_calculator(2.5, 97.5, profit_range_0)\n",
    "lower_CI_r1, upper_CI_r1 = CI_calculator(2.5, 97.5, profit_range_1)\n",
    "lower_CI_r2, upper_CI_r2 = CI_calculator(2.5, 97.5, profit_range_2)"
   ]
  },
  {
   "cell_type": "markdown",
   "metadata": {},
   "source": [
    "Now, let's calculate the risk of losses for each region."
   ]
  },
  {
   "cell_type": "code",
   "execution_count": 23,
   "metadata": {},
   "outputs": [],
   "source": [
    "risk_r0 = round((profit_range_0.sort_values(ascending=True) < 0).mean(),2)*100\n",
    "risk_r1 = round((profit_range_1.sort_values(ascending=True) < 0).mean(),2)*100\n",
    "risk_r2 = round((profit_range_2.sort_values(ascending=True) < 0).mean(),2)*100"
   ]
  },
  {
   "cell_type": "code",
   "execution_count": 24,
   "metadata": {
    "scrolled": true
   },
   "outputs": [
    {
     "data": {
      "text/html": [
       "<div>\n",
       "<style scoped>\n",
       "    .dataframe tbody tr th:only-of-type {\n",
       "        vertical-align: middle;\n",
       "    }\n",
       "\n",
       "    .dataframe tbody tr th {\n",
       "        vertical-align: top;\n",
       "    }\n",
       "\n",
       "    .dataframe thead th {\n",
       "        text-align: right;\n",
       "    }\n",
       "</style>\n",
       "<table border=\"1\" class=\"dataframe\">\n",
       "  <thead>\n",
       "    <tr style=\"text-align: right;\">\n",
       "      <th></th>\n",
       "      <th>Lower border</th>\n",
       "      <th>Upper border</th>\n",
       "      <th>CI,%</th>\n",
       "      <th>Risk of losses, %</th>\n",
       "    </tr>\n",
       "    <tr>\n",
       "      <th>Region</th>\n",
       "      <th></th>\n",
       "      <th></th>\n",
       "      <th></th>\n",
       "      <th></th>\n",
       "    </tr>\n",
       "  </thead>\n",
       "  <tbody>\n",
       "    <tr>\n",
       "      <td>0</td>\n",
       "      <td>-0.127130</td>\n",
       "      <td>0.903652</td>\n",
       "      <td>95</td>\n",
       "      <td>7.0</td>\n",
       "    </tr>\n",
       "    <tr>\n",
       "      <td>1</td>\n",
       "      <td>0.051039</td>\n",
       "      <td>0.845864</td>\n",
       "      <td>95</td>\n",
       "      <td>1.0</td>\n",
       "    </tr>\n",
       "    <tr>\n",
       "      <td>2</td>\n",
       "      <td>-0.137181</td>\n",
       "      <td>0.929700</td>\n",
       "      <td>95</td>\n",
       "      <td>7.0</td>\n",
       "    </tr>\n",
       "  </tbody>\n",
       "</table>\n",
       "</div>"
      ],
      "text/plain": [
       "        Lower border  Upper border  CI,%  Risk of losses, %\n",
       "Region                                                     \n",
       "0          -0.127130      0.903652    95                7.0\n",
       "1           0.051039      0.845864    95                1.0\n",
       "2          -0.137181      0.929700    95                7.0"
      ]
     },
     "execution_count": 24,
     "metadata": {},
     "output_type": "execute_result"
    }
   ],
   "source": [
    "CI = pd.DataFrame(index=[0,1,2],\n",
    "                        data={'Lower border': [lower_CI_r0, lower_CI_r1, lower_CI_r2],\n",
    "                        'Upper border': [upper_CI_r0, upper_CI_r1, upper_CI_r2],\n",
    "                        'CI,%': [95,95,95],\n",
    "                        'Risk of losses, %': [risk_r0, risk_r1, risk_r2]\n",
    "                       })\n",
    "CI.index.name = 'Region'\n",
    "CI"
   ]
  },
  {
   "cell_type": "markdown",
   "metadata": {},
   "source": [
    "- Based on the above table, risks of losses for `regions 0 and 2` are 7% for `region 1` is only 1%\n",
    "\n",
    "- These results confirm my previous conclusion: **Region 1 is the best option for the future development of oil wells because it has the highest total profit and the lowest risk of losses**."
   ]
  },
  {
   "cell_type": "markdown",
   "metadata": {},
   "source": [
    "## Conclusion"
   ]
  },
  {
   "cell_type": "markdown",
   "metadata": {},
   "source": [
    "In this project I have developed a linear regression model for the OilyGiant mining company that analyzes oil well parameters in each of the three selected regions and predicts the volume of reserves in the new wells for each region.\n",
    "\n",
    "Based on these predictions, I have identified the region with the highest total profit and the lowest risk of losses.\n",
    "\n",
    "**Summary:**\n",
    "\n",
    "1. First step was the **descriptive statistics**. I found that data was already preprocessed.\n",
    "\n",
    "2. In the following section I have **developed a model for each region**. For that purpose I split the data into train and validation sets with the 75/25 proportion, respectively. Then scaled it using the Standard Scaler method. Next, calculated the baseline RMSE to be able to compare our models' score with a dummy regressor.\n",
    "\n",
    ">Each of the 3 models' RMSE turned out to be lower than the respective baseline RMSE, so the models are better than the average estimate but not much better, except for the model in `Region 1`: it has an error of less than 1 thousand barrel. However, in this region the average predicted volume of reserves was much lower than in the other two regions.\n",
    "\n",
    ">Then we calculated the percentage by which the model is off compared to the average predicted volume of reserves. The error is quite high (over 40%) in `regions 0 and 2` and very low (only 1%) in `region 1`. Overall, the actual and predicted volumes of reserves are very close in all 3 regions.\n",
    "\n",
    "3. Next step was **profit calculation**. \n",
    "\n",
    ">First, I calculated the volume of reserves sufficient for developing a new well without losses (a break-even point). The minimum volume of reserves per well in the new region must be **111.11* thousand barrels** in order to break even.\n",
    "\n",
    ">Each of the 3 regions' average volume of predicted reserves is lower than this number. If we were to randomly take 200 wells in each region we would be at a loss, on average. To be able to make profit, let's select the most profitable wells in each region and see if the total reserves will cover the development cost.\n",
    "\n",
    ">In practice, instead of drilling all the wells in each region (and investing a lot of money in it), the company chooses 500 random wells, measure the features' values (`f0`, `f1`, `f2`) for each of them and then selects the best 200 wells for the profit calculation. \n",
    "\n",
    ">So I estimated the **profit distribution for the top 200 wells in each region**. For that I created 10000 samples of 500 random wells from the historic data using the **bootstrapping technique**. \n",
    "\n",
    ">Next, I used the models to rank those wells and select 200 best ones in terms of the volume of product. \n",
    "\n",
    ">Finally, I used the respective actual volume of product for each well and calculated the total profit for that sample. I obtained 10000 values for possible profit and plotted distribution based on that data.\n",
    "\n",
    ">The biggest part of the profit range for all 3 regions is above the break-even point. However, `region 1` contains the most positive values. Based on that, I suggested that `Region 1` should be selected for development of oil wells.\n",
    "\n",
    "4. Next, I performed **risk assessment** to make sure this conclusion holds.\n",
    "\n",
    ">The company's requirement for a new region is to have the risk of losses lower than 2.5%. \n",
    "\n",
    ">First, I estimated the 95% confidence interval (CI) that the profit will fall into a particular range. Then we calculated the risk of losses for each region.\n",
    "\n",
    ">The risks of losses for `region 0` and `region 2` are equal 7%. Besides, with the 95% confidence we can expect the loses `region 1` will be 1%.\n",
    "\n",
    ">These results confirmed my previous conclusion: \n",
    "\n",
    "**Region 1 is the best option for the future development of oil wells because it has the highest total profit and the lowest risk of losses**."
   ]
  },
  {
   "cell_type": "code",
   "execution_count": null,
   "metadata": {},
   "outputs": [],
   "source": []
  }
 ],
 "metadata": {
  "ExecuteTimeLog": [
   {
    "duration": 1494,
    "start_time": "2021-07-26T09:51:34.640Z"
   },
   {
    "duration": 667,
    "start_time": "2021-07-26T09:51:36.137Z"
   },
   {
    "duration": 16,
    "start_time": "2021-07-26T09:51:36.807Z"
   },
   {
    "duration": 14,
    "start_time": "2021-07-26T09:51:36.826Z"
   },
   {
    "duration": 15,
    "start_time": "2021-07-26T09:51:36.842Z"
   },
   {
    "duration": 13,
    "start_time": "2021-07-26T09:51:37.746Z"
   },
   {
    "duration": 13,
    "start_time": "2021-07-26T09:51:38.178Z"
   },
   {
    "duration": 13,
    "start_time": "2021-07-26T09:51:38.763Z"
   },
   {
    "duration": 51,
    "start_time": "2021-07-26T09:51:39.790Z"
   },
   {
    "duration": 49,
    "start_time": "2021-07-26T09:51:40.244Z"
   },
   {
    "duration": 55,
    "start_time": "2021-07-26T09:51:40.601Z"
   },
   {
    "duration": 9,
    "start_time": "2021-07-26T09:51:42.611Z"
   },
   {
    "duration": 435,
    "start_time": "2021-07-26T09:51:42.970Z"
   },
   {
    "duration": 326,
    "start_time": "2021-07-26T09:51:48.693Z"
   },
   {
    "duration": 27,
    "start_time": "2021-07-26T09:52:14.777Z"
   },
   {
    "duration": 98,
    "start_time": "2021-07-26T09:52:20.400Z"
   },
   {
    "duration": 2643,
    "start_time": "2021-07-26T09:52:30.035Z"
   },
   {
    "duration": 323,
    "start_time": "2021-07-26T09:52:47.413Z"
   },
   {
    "duration": 13,
    "start_time": "2021-07-26T09:53:02.398Z"
   },
   {
    "duration": 13,
    "start_time": "2021-07-26T09:53:22.481Z"
   },
   {
    "duration": 9,
    "start_time": "2021-07-26T09:53:25.100Z"
   },
   {
    "duration": 80,
    "start_time": "2021-07-26T09:53:26.110Z"
   },
   {
    "duration": 2119,
    "start_time": "2021-07-26T09:53:38.986Z"
   },
   {
    "duration": 1629,
    "start_time": "2021-07-26T11:24:18.974Z"
   },
   {
    "duration": 906,
    "start_time": "2021-07-26T11:24:20.606Z"
   },
   {
    "duration": 20,
    "start_time": "2021-07-26T11:24:21.516Z"
   },
   {
    "duration": 15,
    "start_time": "2021-07-26T11:24:21.540Z"
   },
   {
    "duration": 15,
    "start_time": "2021-07-26T11:24:21.586Z"
   },
   {
    "duration": 16,
    "start_time": "2021-07-26T11:24:21.604Z"
   },
   {
    "duration": 15,
    "start_time": "2021-07-26T11:24:21.622Z"
   },
   {
    "duration": 56,
    "start_time": "2021-07-26T11:24:21.641Z"
   },
   {
    "duration": 54,
    "start_time": "2021-07-26T11:24:21.700Z"
   },
   {
    "duration": 83,
    "start_time": "2021-07-26T11:24:21.757Z"
   },
   {
    "duration": 67,
    "start_time": "2021-07-26T11:24:21.843Z"
   },
   {
    "duration": 8,
    "start_time": "2021-07-26T11:24:21.913Z"
   },
   {
    "duration": 561,
    "start_time": "2021-07-26T11:24:21.924Z"
   },
   {
    "duration": 137,
    "start_time": "2021-07-26T11:24:22.488Z"
   },
   {
    "duration": 265,
    "start_time": "2021-07-26T11:24:22.627Z"
   },
   {
    "duration": 92,
    "start_time": "2021-07-26T11:24:22.896Z"
   },
   {
    "duration": 7,
    "start_time": "2021-07-26T11:24:22.992Z"
   },
   {
    "duration": 46010,
    "start_time": "2021-07-26T11:24:23.002Z"
   },
   {
    "duration": 997,
    "start_time": "2021-07-26T11:25:09.015Z"
   },
   {
    "duration": 27,
    "start_time": "2021-07-26T11:25:10.016Z"
   },
   {
    "duration": 4,
    "start_time": "2021-07-26T11:25:10.046Z"
   },
   {
    "duration": 40,
    "start_time": "2021-07-26T11:25:10.054Z"
   },
   {
    "duration": 13,
    "start_time": "2021-07-26T11:25:10.099Z"
   },
   {
    "duration": 15,
    "start_time": "2021-07-26T11:25:10.114Z"
   }
  ],
  "kernelspec": {
   "display_name": "Python 3",
   "language": "python",
   "name": "python3"
  },
  "language_info": {
   "codemirror_mode": {
    "name": "ipython",
    "version": 3
   },
   "file_extension": ".py",
   "mimetype": "text/x-python",
   "name": "python",
   "nbconvert_exporter": "python",
   "pygments_lexer": "ipython3",
   "version": "3.7.6"
  },
  "toc": {
   "base_numbering": 1,
   "nav_menu": {},
   "number_sections": true,
   "sideBar": true,
   "skip_h1_title": true,
   "title_cell": "Table of Contents",
   "title_sidebar": "Contents",
   "toc_cell": true,
   "toc_position": {},
   "toc_section_display": true,
   "toc_window_display": false
  },
  "varInspector": {
   "cols": {
    "lenName": 16,
    "lenType": 16,
    "lenVar": 40
   },
   "kernels_config": {
    "python": {
     "delete_cmd_postfix": "",
     "delete_cmd_prefix": "del ",
     "library": "var_list.py",
     "varRefreshCmd": "print(var_dic_list())"
    },
    "r": {
     "delete_cmd_postfix": ") ",
     "delete_cmd_prefix": "rm(",
     "library": "var_list.r",
     "varRefreshCmd": "cat(var_dic_list()) "
    }
   },
   "types_to_exclude": [
    "module",
    "function",
    "builtin_function_or_method",
    "instance",
    "_Feature"
   ],
   "window_display": false
  }
 },
 "nbformat": 4,
 "nbformat_minor": 4
}
